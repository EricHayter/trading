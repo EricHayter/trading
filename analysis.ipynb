{
 "cells": [
  {
   "cell_type": "markdown",
   "id": "a5c275a3-8bfb-45bc-b938-404847bf0507",
   "metadata": {},
   "source": [
    "# TODO\n",
    "- rate limiting (how will we solve that problem?)\n",
    "    - in-house solution\n",
    "    - external library\n",
    "- getting 3 years of historical data for backtesting\n",
    "    - 5000 datapoints per request from twelve data\n",
    "    - stitch data together from multiple requests\n",
    "    -"
   ]
  },
  {
   "cell_type": "code",
   "execution_count": 3,
   "id": "b1c1e738-83f6-416d-ae42-4d6c568ffb2b",
   "metadata": {},
   "outputs": [],
   "source": [
    "config = configparser.ConfigParser()\n",
    "config.read('trading.cfg')\n",
    "API_KEY = config['Twelvedata']['api_key']"
   ]
  },
  {
   "cell_type": "markdown",
   "id": "b8978d91-9fc5-4f0b-a4b7-36456963f4a2",
   "metadata": {},
   "source": [
    "### Collecting api key for Twelvedata"
   ]
  },
  {
   "cell_type": "code",
   "execution_count": null,
   "id": "28ae0e73-25f5-4c1f-92df-bacddc1cec9d",
   "metadata": {},
   "outputs": [],
   "source": [
    "from twelvedata import TDClient\n",
    "import pandas as pd\n",
    "import configparser\n",
    "import datetime"
   ]
  },
  {
   "cell_type": "markdown",
   "id": "74b33317-0af1-4de5-bb7b-4f8eb7929dee",
   "metadata": {},
   "source": [
    "### Finding 3 years delta from current date to gather minute data"
   ]
  },
  {
   "cell_type": "code",
   "execution_count": 22,
   "id": "7f2c9c71-e577-433c-9be8-bf3665cfb406",
   "metadata": {},
   "outputs": [],
   "source": [
    "YEARS = 3\n",
    "current_date = datetime.date.today()\n",
    "date_offset = datetime.timedelta(days=365*YEARS + 10)\n",
    "start_date = current_date - date_offset\n",
    "str(start_date)"
   ]
  },
  {
   "cell_type": "code",
   "execution_count": 24,
   "id": "2559818b-010b-491c-9a96-5eabb071d39f",
   "metadata": {},
   "outputs": [
    {
     "ename": "BadRequestError",
     "evalue": "Invalid **outputsize** provided: 1576800. Accepts values in the range from 1 to 5000 inclusive.",
     "output_type": "error",
     "traceback": [
      "\u001b[0;31m---------------------------------------------------------------------------\u001b[0m",
      "\u001b[0;31mBadRequestError\u001b[0m                           Traceback (most recent call last)",
      "Cell \u001b[0;32mIn[32], line 12\u001b[0m\n\u001b[1;32m      5\u001b[0m ts \u001b[38;5;241m=\u001b[39m td\u001b[38;5;241m.\u001b[39mtime_series(\n\u001b[1;32m      6\u001b[0m     symbol\u001b[38;5;241m=\u001b[39m\u001b[38;5;124m\"\u001b[39m\u001b[38;5;124mMSFT\u001b[39m\u001b[38;5;124m\"\u001b[39m,\n\u001b[1;32m      7\u001b[0m     interval\u001b[38;5;241m=\u001b[39m\u001b[38;5;124m\"\u001b[39m\u001b[38;5;124m1min\u001b[39m\u001b[38;5;124m\"\u001b[39m,\n\u001b[1;32m      8\u001b[0m     outputsize \u001b[38;5;241m=\u001b[39m data_length,\n\u001b[1;32m      9\u001b[0m )\n\u001b[1;32m     11\u001b[0m \u001b[38;5;66;03m# Returns pandas.DataFrame\u001b[39;00m\n\u001b[0;32m---> 12\u001b[0m data \u001b[38;5;241m=\u001b[39m ts\u001b[38;5;241m.\u001b[39mas_pandas()\n",
      "File \u001b[0;32m~/miniconda3/envs/trading/lib/python3.11/site-packages/twelvedata/time_series.py:114\u001b[0m, in \u001b[0;36mTimeSeries.as_pandas\u001b[0;34m(self, **kwargs)\u001b[0m\n\u001b[1;32m    111\u001b[0m postfixes \u001b[38;5;241m=\u001b[39m \u001b[38;5;28mself\u001b[39m\u001b[38;5;241m.\u001b[39m_generate_postfixes()\n\u001b[1;32m    113\u001b[0m \u001b[38;5;28;01mif\u001b[39;00m \u001b[38;5;28mself\u001b[39m\u001b[38;5;241m.\u001b[39mprice_endpoint_enabled:\n\u001b[0;32m--> 114\u001b[0m     df \u001b[38;5;241m=\u001b[39m \u001b[38;5;28mself\u001b[39m\u001b[38;5;241m.\u001b[39mprice_endpoint\u001b[38;5;241m.\u001b[39mas_pandas()\n\u001b[1;32m    115\u001b[0m \u001b[38;5;28;01melse\u001b[39;00m:\n\u001b[1;32m    116\u001b[0m     df \u001b[38;5;241m=\u001b[39m \u001b[38;5;28;01mNone\u001b[39;00m\n",
      "File \u001b[0;32m~/miniconda3/envs/trading/lib/python3.11/site-packages/twelvedata/mixins.py:44\u001b[0m, in \u001b[0;36mAsPandasMixin.as_pandas\u001b[0;34m(self, **kwargs)\u001b[0m\n\u001b[1;32m     40\u001b[0m \u001b[38;5;28;01mimport\u001b[39;00m \u001b[38;5;21;01mpandas\u001b[39;00m \u001b[38;5;28;01mas\u001b[39;00m \u001b[38;5;21;01mpd\u001b[39;00m\n\u001b[1;32m     42\u001b[0m \u001b[38;5;28;01massert\u001b[39;00m \u001b[38;5;28mhasattr\u001b[39m(\u001b[38;5;28mself\u001b[39m, \u001b[38;5;124m\"\u001b[39m\u001b[38;5;124mas_json\u001b[39m\u001b[38;5;124m\"\u001b[39m)\n\u001b[0;32m---> 44\u001b[0m data \u001b[38;5;241m=\u001b[39m \u001b[38;5;28mself\u001b[39m\u001b[38;5;241m.\u001b[39mas_json()\n\u001b[1;32m     45\u001b[0m \u001b[38;5;28;01mif\u001b[39;00m \u001b[38;5;28mhasattr\u001b[39m(\u001b[38;5;28mself\u001b[39m, \u001b[38;5;124m\"\u001b[39m\u001b[38;5;124mis_batch\u001b[39m\u001b[38;5;124m\"\u001b[39m) \u001b[38;5;129;01mand\u001b[39;00m \u001b[38;5;28mself\u001b[39m\u001b[38;5;241m.\u001b[39mis_batch:\n\u001b[1;32m     46\u001b[0m     df \u001b[38;5;241m=\u001b[39m convert_collection_to_pandas_multi_index(data)\n",
      "File \u001b[0;32m~/miniconda3/envs/trading/lib/python3.11/site-packages/twelvedata/mixins.py:12\u001b[0m, in \u001b[0;36mAsJsonMixin.as_json\u001b[0;34m(self)\u001b[0m\n\u001b[1;32m     11\u001b[0m \u001b[38;5;28;01mdef\u001b[39;00m \u001b[38;5;21mas_json\u001b[39m(\u001b[38;5;28mself\u001b[39m):\n\u001b[0;32m---> 12\u001b[0m     resp \u001b[38;5;241m=\u001b[39m \u001b[38;5;28mself\u001b[39m\u001b[38;5;241m.\u001b[39mexecute(\u001b[38;5;28mformat\u001b[39m\u001b[38;5;241m=\u001b[39m\u001b[38;5;124m\"\u001b[39m\u001b[38;5;124mJSON\u001b[39m\u001b[38;5;124m\"\u001b[39m)\n\u001b[1;32m     13\u001b[0m     json \u001b[38;5;241m=\u001b[39m resp\u001b[38;5;241m.\u001b[39mjson()\n\u001b[1;32m     14\u001b[0m     \u001b[38;5;28;01mif\u001b[39;00m \u001b[38;5;28mhasattr\u001b[39m(\u001b[38;5;28mself\u001b[39m, \u001b[38;5;124m'\u001b[39m\u001b[38;5;124mis_batch\u001b[39m\u001b[38;5;124m'\u001b[39m) \u001b[38;5;129;01mand\u001b[39;00m \u001b[38;5;28mself\u001b[39m\u001b[38;5;241m.\u001b[39mis_batch:\n",
      "File \u001b[0;32m~/miniconda3/envs/trading/lib/python3.11/site-packages/twelvedata/endpoints.py:299\u001b[0m, in \u001b[0;36mTimeSeriesEndpoint.execute\u001b[0;34m(self, format, debug)\u001b[0m\n\u001b[1;32m    297\u001b[0m \u001b[38;5;28;01mif\u001b[39;00m debug:\n\u001b[1;32m    298\u001b[0m     \u001b[38;5;28;01mreturn\u001b[39;00m build_url(\u001b[38;5;28mself\u001b[39m\u001b[38;5;241m.\u001b[39mctx\u001b[38;5;241m.\u001b[39mbase_url, endpoint, params)\n\u001b[0;32m--> 299\u001b[0m \u001b[38;5;28;01mreturn\u001b[39;00m \u001b[38;5;28mself\u001b[39m\u001b[38;5;241m.\u001b[39mctx\u001b[38;5;241m.\u001b[39mhttp_client\u001b[38;5;241m.\u001b[39mget(endpoint, params\u001b[38;5;241m=\u001b[39mparams)\n",
      "File \u001b[0;32m~/miniconda3/envs/trading/lib/python3.11/site-packages/twelvedata/http_client.py:50\u001b[0m, in \u001b[0;36mDefaultHttpClient.get\u001b[0;34m(self, relative_url, *args, **kwargs)\u001b[0m\n\u001b[1;32m     47\u001b[0m \u001b[38;5;28;01mexcept\u001b[39;00m \u001b[38;5;167;01mValueError\u001b[39;00m:\n\u001b[1;32m     48\u001b[0m     message \u001b[38;5;241m=\u001b[39m resp\u001b[38;5;241m.\u001b[39mtext\n\u001b[0;32m---> 50\u001b[0m \u001b[38;5;28mself\u001b[39m\u001b[38;5;241m.\u001b[39m_raise_error(error_code, message)\n",
      "File \u001b[0;32m~/miniconda3/envs/trading/lib/python3.11/site-packages/twelvedata/http_client.py:58\u001b[0m, in \u001b[0;36mDefaultHttpClient._raise_error\u001b[0;34m(error_code, message)\u001b[0m\n\u001b[1;32m     55\u001b[0m     \u001b[38;5;28;01mraise\u001b[39;00m InvalidApiKeyError(message)\n\u001b[1;32m     57\u001b[0m \u001b[38;5;28;01mif\u001b[39;00m error_code \u001b[38;5;241m==\u001b[39m \u001b[38;5;241m400\u001b[39m:\n\u001b[0;32m---> 58\u001b[0m     \u001b[38;5;28;01mraise\u001b[39;00m BadRequestError(message)\n\u001b[1;32m     60\u001b[0m \u001b[38;5;28;01mif\u001b[39;00m error_code \u001b[38;5;241m>\u001b[39m\u001b[38;5;241m=\u001b[39m \u001b[38;5;241m500\u001b[39m:\n\u001b[1;32m     61\u001b[0m     \u001b[38;5;28;01mraise\u001b[39;00m InternalServerError(message)\n",
      "\u001b[0;31mBadRequestError\u001b[0m: Invalid **outputsize** provided: 1576800. Accepts values in the range from 1 to 5000 inclusive."
     ]
    }
   ],
   "source": [
    "# Initialize client - apikey parameter is requiered\n",
    "td = TDClient(apikey=API_KEY)\n",
    "\n",
    "# Construct the necessary time series\n",
    "ts = td.time_series(\n",
    "    symbol=\"MSFT\",\n",
    "    interval=\"1min\",\n",
    "    start_date = start_date\n",
    "    outputsize = 5000\n",
    ")\n",
    "\n",
    "# Returns pandas.DataFrame\n",
    "data = ts.as_pandas()"
   ]
  },
  {
   "cell_type": "code",
   "execution_count": 25,
   "id": "32e2c479-55aa-4a19-8239-d6ad805f9899",
   "metadata": {},
   "outputs": [
    {
     "data": {
      "text/html": [
       "<div>\n",
       "<style scoped>\n",
       "    .dataframe tbody tr th:only-of-type {\n",
       "        vertical-align: middle;\n",
       "    }\n",
       "\n",
       "    .dataframe tbody tr th {\n",
       "        vertical-align: top;\n",
       "    }\n",
       "\n",
       "    .dataframe thead th {\n",
       "        text-align: right;\n",
       "    }\n",
       "</style>\n",
       "<table border=\"1\" class=\"dataframe\">\n",
       "  <thead>\n",
       "    <tr style=\"text-align: right;\">\n",
       "      <th></th>\n",
       "      <th>open</th>\n",
       "      <th>high</th>\n",
       "      <th>low</th>\n",
       "      <th>close</th>\n",
       "      <th>volume</th>\n",
       "    </tr>\n",
       "    <tr>\n",
       "      <th>datetime</th>\n",
       "      <th></th>\n",
       "      <th></th>\n",
       "      <th></th>\n",
       "      <th></th>\n",
       "      <th></th>\n",
       "    </tr>\n",
       "  </thead>\n",
       "  <tbody>\n",
       "    <tr>\n",
       "      <th>2023-06-07 15:59:00</th>\n",
       "      <td>323.59000</td>\n",
       "      <td>323.76001</td>\n",
       "      <td>323.32999</td>\n",
       "      <td>323.45999</td>\n",
       "      <td>894665</td>\n",
       "    </tr>\n",
       "    <tr>\n",
       "      <th>2023-06-07 15:58:00</th>\n",
       "      <td>323.51001</td>\n",
       "      <td>323.67999</td>\n",
       "      <td>323.48010</td>\n",
       "      <td>323.59000</td>\n",
       "      <td>251045</td>\n",
       "    </tr>\n",
       "    <tr>\n",
       "      <th>2023-06-07 15:57:00</th>\n",
       "      <td>323.53000</td>\n",
       "      <td>323.64001</td>\n",
       "      <td>323.45999</td>\n",
       "      <td>323.51001</td>\n",
       "      <td>182177</td>\n",
       "    </tr>\n",
       "    <tr>\n",
       "      <th>2023-06-07 15:56:00</th>\n",
       "      <td>323.23999</td>\n",
       "      <td>323.70999</td>\n",
       "      <td>323.20999</td>\n",
       "      <td>323.53000</td>\n",
       "      <td>192241</td>\n",
       "    </tr>\n",
       "    <tr>\n",
       "      <th>2023-06-07 15:55:00</th>\n",
       "      <td>323.29001</td>\n",
       "      <td>323.29999</td>\n",
       "      <td>323.04001</td>\n",
       "      <td>323.23990</td>\n",
       "      <td>266697</td>\n",
       "    </tr>\n",
       "  </tbody>\n",
       "</table>\n",
       "</div>"
      ],
      "text/plain": [
       "                          open       high        low      close  volume\n",
       "datetime                                                               \n",
       "2023-06-07 15:59:00  323.59000  323.76001  323.32999  323.45999  894665\n",
       "2023-06-07 15:58:00  323.51001  323.67999  323.48010  323.59000  251045\n",
       "2023-06-07 15:57:00  323.53000  323.64001  323.45999  323.51001  182177\n",
       "2023-06-07 15:56:00  323.23999  323.70999  323.20999  323.53000  192241\n",
       "2023-06-07 15:55:00  323.29001  323.29999  323.04001  323.23990  266697"
      ]
     },
     "execution_count": 25,
     "metadata": {},
     "output_type": "execute_result"
    }
   ],
   "source": [
    "data.head()"
   ]
  },
  {
   "cell_type": "code",
   "execution_count": 27,
   "id": "146da5db-abaa-491b-b178-f66a26e1b3f2",
   "metadata": {},
   "outputs": [
    {
     "data": {
      "text/plain": [
       "150"
      ]
     },
     "execution_count": 27,
     "metadata": {},
     "output_type": "execute_result"
    }
   ],
   "source": [
    "data.size"
   ]
  },
  {
   "cell_type": "code",
   "execution_count": null,
   "id": "4d67937b-4dfe-4e37-b47d-137bee210730",
   "metadata": {},
   "outputs": [
    {
     "data": {
      "text/plain": [
       "pandas.core.frame.DataFrame"
      ]
     },
     "execution_count": 28,
     "metadata": {},
     "output_type": "execute_result"
    }
   ],
   "source": [
    "type(data"
   ]
  }
 ],
 "metadata": {
  "kernelspec": {
   "display_name": "Python 3 (ipykernel)",
   "language": "python",
   "name": "python3"
  },
  "language_info": {
   "codemirror_mode": {
    "name": "ipython",
    "version": 3
   },
   "file_extension": ".py",
   "mimetype": "text/x-python",
   "name": "python",
   "nbconvert_exporter": "python",
   "pygments_lexer": "ipython3",
   "version": "3.11.3"
  }
 },
 "nbformat": 4,
 "nbformat_minor": 5
}
