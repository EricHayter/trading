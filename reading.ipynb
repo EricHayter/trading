{
 "cells": [
  {
   "cell_type": "code",
   "execution_count": 18,
   "id": "c48ecf55-d74a-4906-b6ed-3b0376ce279b",
   "metadata": {},
   "outputs": [
    {
     "name": "stdout",
     "output_type": "stream",
     "text": [
      "loaded libraries\n"
     ]
    }
   ],
   "source": [
    "import pandas as pd\n",
    "import quandl as q\n",
    "import configparser\n",
    "print('loaded libraries')"
   ]
  },
  {
   "cell_type": "markdown",
   "id": "19404f07-4799-471d-9e8f-1e9a4b7c086e",
   "metadata": {},
   "source": [
    "### loading API key from config"
   ]
  },
  {
   "cell_type": "code",
   "execution_count": 14,
   "id": "3b610064-ac5b-4003-bf45-40538b783d9e",
   "metadata": {},
   "outputs": [
    {
     "data": {
      "text/plain": [
       "'HJ4Zj6MJE2UxJGvpz94h'"
      ]
     },
     "execution_count": 14,
     "metadata": {},
     "output_type": "execute_result"
    }
   ],
   "source": [
    "config = configparser.ConfigParser()\n",
    "config.read('trading.cfg')\n",
    "config['Quandl']['api_key']"
   ]
  },
  {
   "cell_type": "markdown",
   "id": "c78eba3a-8bce-432a-a3b1-06ddc2aa120d",
   "metadata": {},
   "source": [
    "### collecting data"
   ]
  },
  {
   "cell_type": "code",
   "execution_count": 21,
   "id": "941e666e-c175-4ac5-bc84-159a6f3ff976",
   "metadata": {},
   "outputs": [
    {
     "name": "stdout",
     "output_type": "stream",
     "text": [
      "<class 'pandas.core.frame.DataFrame'>\n",
      "DatetimeIndex: 5269 entries, 2009-01-02 to 2023-06-06\n",
      "Data columns (total 1 columns):\n",
      " #   Column  Non-Null Count  Dtype  \n",
      "---  ------  --------------  -----  \n",
      " 0   Value   5269 non-null   float64\n",
      "dtypes: float64(1)\n",
      "memory usage: 82.3 KB\n"
     ]
    }
   ],
   "source": [
    "data = q.get('BCHAIN/MKPRU', api_key=config['Quandl']['api_key'])\n",
    "data.info()"
   ]
  },
  {
   "cell_type": "code",
   "execution_count": null,
   "id": "4dea3a91-1f0f-4056-85f9-a6ee59b2e417",
   "metadata": {},
   "outputs": [],
   "source": [
    "data"
   ]
  }
 ],
 "metadata": {
  "kernelspec": {
   "display_name": "Python 3 (ipykernel)",
   "language": "python",
   "name": "python3"
  },
  "language_info": {
   "codemirror_mode": {
    "name": "ipython",
    "version": 3
   },
   "file_extension": ".py",
   "mimetype": "text/x-python",
   "name": "python",
   "nbconvert_exporter": "python",
   "pygments_lexer": "ipython3",
   "version": "3.11.3"
  }
 },
 "nbformat": 4,
 "nbformat_minor": 5
}
