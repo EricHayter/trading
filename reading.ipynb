{
 "cells": [
  {
   "cell_type": "code",
   "execution_count": 1,
   "id": "c48ecf55-d74a-4906-b6ed-3b0376ce279b",
   "metadata": {},
   "outputs": [
    {
     "name": "stdout",
     "output_type": "stream",
     "text": [
      "loaded libraries\n"
     ]
    }
   ],
   "source": [
    "import pandas as pd\n",
    "import quandl as q\n",
    "import configparser\n",
    "print('loaded libraries')"
   ]
  },
  {
   "cell_type": "markdown",
   "id": "19404f07-4799-471d-9e8f-1e9a4b7c086e",
   "metadata": {},
   "source": [
    "### loading API key from config"
   ]
  },
  {
   "cell_type": "code",
   "execution_count": 5,
   "id": "3b610064-ac5b-4003-bf45-40538b783d9e",
   "metadata": {},
   "outputs": [],
   "source": [
    "config = configparser.ConfigParser()\n",
    "config.read('trading.cfg')\n",
    "q.ApiConfig.api_key = config['Quandl']['api_key']"
   ]
  },
  {
   "cell_type": "markdown",
   "id": "c78eba3a-8bce-432a-a3b1-06ddc2aa120d",
   "metadata": {},
   "source": [
    "### collecting data"
   ]
  },
  {
   "cell_type": "code",
   "execution_count": 6,
   "id": "941e666e-c175-4ac5-bc84-159a6f3ff976",
   "metadata": {},
   "outputs": [
    {
     "name": "stdout",
     "output_type": "stream",
     "text": [
      "<class 'pandas.core.frame.DataFrame'>\n",
      "DatetimeIndex: 5269 entries, 2009-01-02 to 2023-06-06\n",
      "Data columns (total 1 columns):\n",
      " #   Column  Non-Null Count  Dtype  \n",
      "---  ------  --------------  -----  \n",
      " 0   Value   5269 non-null   float64\n",
      "dtypes: float64(1)\n",
      "memory usage: 82.3 KB\n"
     ]
    },
    {
     "data": {
      "text/html": [
       "<div>\n",
       "<style scoped>\n",
       "    .dataframe tbody tr th:only-of-type {\n",
       "        vertical-align: middle;\n",
       "    }\n",
       "\n",
       "    .dataframe tbody tr th {\n",
       "        vertical-align: top;\n",
       "    }\n",
       "\n",
       "    .dataframe thead th {\n",
       "        text-align: right;\n",
       "    }\n",
       "</style>\n",
       "<table border=\"1\" class=\"dataframe\">\n",
       "  <thead>\n",
       "    <tr style=\"text-align: right;\">\n",
       "      <th></th>\n",
       "      <th>Value</th>\n",
       "    </tr>\n",
       "    <tr>\n",
       "      <th>Date</th>\n",
       "      <th></th>\n",
       "    </tr>\n",
       "  </thead>\n",
       "  <tbody>\n",
       "    <tr>\n",
       "      <th>2009-01-02</th>\n",
       "      <td>0.0</td>\n",
       "    </tr>\n",
       "    <tr>\n",
       "      <th>2009-01-03</th>\n",
       "      <td>0.0</td>\n",
       "    </tr>\n",
       "    <tr>\n",
       "      <th>2009-01-04</th>\n",
       "      <td>0.0</td>\n",
       "    </tr>\n",
       "    <tr>\n",
       "      <th>2009-01-05</th>\n",
       "      <td>0.0</td>\n",
       "    </tr>\n",
       "    <tr>\n",
       "      <th>2009-01-06</th>\n",
       "      <td>0.0</td>\n",
       "    </tr>\n",
       "  </tbody>\n",
       "</table>\n",
       "</div>"
      ],
      "text/plain": [
       "            Value\n",
       "Date             \n",
       "2009-01-02    0.0\n",
       "2009-01-03    0.0\n",
       "2009-01-04    0.0\n",
       "2009-01-05    0.0\n",
       "2009-01-06    0.0"
      ]
     },
     "execution_count": 6,
     "metadata": {},
     "output_type": "execute_result"
    }
   ],
   "source": [
    "data = q.get('BCHAIN/MKPRU')\n",
    "data.info()\n",
    "data.head()"
   ]
  },
  {
   "cell_type": "code",
   "execution_count": 7,
   "id": "4dea3a91-1f0f-4056-85f9-a6ee59b2e417",
   "metadata": {},
   "outputs": [
    {
     "data": {
      "text/plain": [
       "Date\n",
       "2009-12-31        0.000000\n",
       "2010-12-31        0.299998\n",
       "2011-12-31        4.470000\n",
       "2012-12-31       13.570000\n",
       "2013-12-31      746.900000\n",
       "2014-12-31      315.700000\n",
       "2015-12-31      428.230000\n",
       "2016-12-31      958.120000\n",
       "2017-12-31    14165.575000\n",
       "2018-12-31     3791.545833\n",
       "2019-12-31     7219.600000\n",
       "2020-12-31    28856.590000\n",
       "2021-12-31    47132.960000\n",
       "2022-12-31    16599.690000\n",
       "2023-12-31    25747.200000\n",
       "Freq: A-DEC, Name: Value, dtype: float64"
      ]
     },
     "execution_count": 7,
     "metadata": {},
     "output_type": "execute_result"
    }
   ],
   "source": [
    "data['Value'].resample('A').last()"
   ]
  },
  {
   "cell_type": "code",
   "execution_count": 10,
   "id": "0f563f1f-1e55-4213-98a8-8e50275e6916",
   "metadata": {},
   "outputs": [
    {
     "name": "stdout",
     "output_type": "stream",
     "text": [
      "<class 'pandas.core.frame.DataFrame'>\n",
      "DatetimeIndex: 1006 entries, 2015-01-02 to 2018-12-31\n",
      "Data columns (total 10 columns):\n",
      " #   Column  Non-Null Count  Dtype  \n",
      "---  ------  --------------  -----  \n",
      " 0   Hv10    1006 non-null   float64\n",
      " 1   Hv20    1006 non-null   float64\n",
      " 2   Hv30    1006 non-null   float64\n",
      " 3   Hv60    1006 non-null   float64\n",
      " 4   Hv90    1006 non-null   float64\n",
      " 5   Hv120   1006 non-null   float64\n",
      " 6   Hv150   1006 non-null   float64\n",
      " 7   Hv180   1006 non-null   float64\n",
      " 8   Phv10   1006 non-null   float64\n",
      " 9   Phv20   1006 non-null   float64\n",
      "dtypes: float64(10)\n",
      "memory usage: 86.5 KB\n"
     ]
    }
   ],
   "source": [
    "vol = q.get('VOL/MSFT')\n",
    "vol.iloc[:, :10].info()"
   ]
  },
  {
   "cell_type": "code",
   "execution_count": 11,
   "id": "d9deff4d-5928-4944-bb6f-b55322e40bc8",
   "metadata": {},
   "outputs": [
    {
     "data": {
      "text/html": [
       "<div>\n",
       "<style scoped>\n",
       "    .dataframe tbody tr th:only-of-type {\n",
       "        vertical-align: middle;\n",
       "    }\n",
       "\n",
       "    .dataframe tbody tr th {\n",
       "        vertical-align: top;\n",
       "    }\n",
       "\n",
       "    .dataframe thead th {\n",
       "        text-align: right;\n",
       "    }\n",
       "</style>\n",
       "<table border=\"1\" class=\"dataframe\">\n",
       "  <thead>\n",
       "    <tr style=\"text-align: right;\">\n",
       "      <th></th>\n",
       "      <th>IvMean30</th>\n",
       "      <th>IvMean60</th>\n",
       "      <th>IvMean90</th>\n",
       "    </tr>\n",
       "    <tr>\n",
       "      <th>Date</th>\n",
       "      <th></th>\n",
       "      <th></th>\n",
       "      <th></th>\n",
       "    </tr>\n",
       "  </thead>\n",
       "  <tbody>\n",
       "    <tr>\n",
       "      <th>2018-12-24</th>\n",
       "      <td>0.4310</td>\n",
       "      <td>0.4112</td>\n",
       "      <td>0.3829</td>\n",
       "    </tr>\n",
       "    <tr>\n",
       "      <th>2018-12-26</th>\n",
       "      <td>0.4059</td>\n",
       "      <td>0.3844</td>\n",
       "      <td>0.3587</td>\n",
       "    </tr>\n",
       "    <tr>\n",
       "      <th>2018-12-27</th>\n",
       "      <td>0.3918</td>\n",
       "      <td>0.3879</td>\n",
       "      <td>0.3618</td>\n",
       "    </tr>\n",
       "    <tr>\n",
       "      <th>2018-12-28</th>\n",
       "      <td>0.3940</td>\n",
       "      <td>0.3736</td>\n",
       "      <td>0.3482</td>\n",
       "    </tr>\n",
       "    <tr>\n",
       "      <th>2018-12-31</th>\n",
       "      <td>0.3760</td>\n",
       "      <td>0.3519</td>\n",
       "      <td>0.3310</td>\n",
       "    </tr>\n",
       "  </tbody>\n",
       "</table>\n",
       "</div>"
      ],
      "text/plain": [
       "            IvMean30  IvMean60  IvMean90\n",
       "Date                                    \n",
       "2018-12-24    0.4310    0.4112    0.3829\n",
       "2018-12-26    0.4059    0.3844    0.3587\n",
       "2018-12-27    0.3918    0.3879    0.3618\n",
       "2018-12-28    0.3940    0.3736    0.3482\n",
       "2018-12-31    0.3760    0.3519    0.3310"
      ]
     },
     "execution_count": 11,
     "metadata": {},
     "output_type": "execute_result"
    }
   ],
   "source": [
    "vol[['IvMean30', 'IvMean60', 'IvMean90']].tail()"
   ]
  },
  {
   "cell_type": "markdown",
   "id": "4b83b034-6668-4976-a3e9-81b1421d27cb",
   "metadata": {},
   "source": [
    "Quandl sucks"
   ]
  }
 ],
 "metadata": {
  "kernelspec": {
   "display_name": "Python 3 (ipykernel)",
   "language": "python",
   "name": "python3"
  },
  "language_info": {
   "codemirror_mode": {
    "name": "ipython",
    "version": 3
   },
   "file_extension": ".py",
   "mimetype": "text/x-python",
   "name": "python",
   "nbconvert_exporter": "python",
   "pygments_lexer": "ipython3",
   "version": "3.11.3"
  }
 },
 "nbformat": 4,
 "nbformat_minor": 5
}
